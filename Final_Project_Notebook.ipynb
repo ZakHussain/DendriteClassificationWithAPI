{
 "cells": [
  {
   "cell_type": "markdown",
   "metadata": {},
   "source": [
    "# Classifying Neuronal Morphological Characteristics--Spiny vs Aspiny--Using Electrohpysiological Features From the Allen Cell Types Database.  \n",
    "**Author: Zak Hussain**   \n",
    "**Date: 08/14/2019** "
   ]
  },
  {
   "cell_type": "markdown",
   "metadata": {},
   "source": [
    "This jupyter notebook shows my step by step process for modeling a logistic regression, Random forest, and decision tree classifier on Data from the Allen Cell Types Database"
   ]
  },
  {
   "cell_type": "code",
   "execution_count": 1,
   "metadata": {},
   "outputs": [],
   "source": [
    "from allensdk.core.cell_types_cache import CellTypesCache \n",
    "from allensdk.api.queries.cell_types_api import CellTypesApi\n",
    "import matplotlib.pyplot as plt \n",
    "import pandas as pd\n",
    "import numpy as np"
   ]
  },
  {
   "cell_type": "code",
   "execution_count": 2,
   "metadata": {},
   "outputs": [],
   "source": [
    "ctc = CellTypesCache(manifest_file='cell_types/manifest.json')\n",
    "cells = ctc.get_cells()"
   ]
  },
  {
   "cell_type": "markdown",
   "metadata": {},
   "source": [
    "### Preprocessing"
   ]
  },
  {
   "cell_type": "code",
   "execution_count": 3,
   "metadata": {},
   "outputs": [
    {
     "name": "stderr",
     "output_type": "stream",
     "text": [
      "C:\\Users\\shuss\\AppData\\Roaming\\Python\\Python37\\site-packages\\allensdk\\core\\cell_types_cache.py:194: UserWarning: dataframe argument is deprecated.\n",
      "  warnings.warn(\"dataframe argument is deprecated.\")\n"
     ]
    }
   ],
   "source": [
    "# 1. store ephys features (ef_df). \n",
    "ef_df = ctc.get_ephys_features(dataframe=True)\n",
    "\n",
    "# step 2. generate needed columns for all 2333 cells \n",
    "# get all metadata for all cells \n",
    "cells = ctc.get_cells()\n",
    "\n",
    "# create a set to use for generating the species and dendrite_types lists\n",
    "cell_index = { c['id']: c for c in cells }\n",
    "\n",
    "# create a species list \n",
    "species = [ cell_index[i]['species'] for i in ef_df['specimen_id']]\n",
    "\n",
    "# create a dendrite-types list\n",
    "dendrite_types = [ cell_index[i]['dendrite_type'] for i in ef_df['specimen_id']]\n",
    "\n",
    "# step 3: Add both to the ef_df\n",
    "ef_df['dendrite_type'] = pd.Series(dendrite_types, index=ef_df.index)\n",
    "ef_df['species'] = pd.Series(species, index=ef_df.index)\n",
    "\n",
    "# step 4: drop the homo sapiens \n",
    "ef_df = ef_df[ef_df['species'] != 'Homo Sapiens'] "
   ]
  },
  {
   "cell_type": "code",
   "execution_count": 4,
   "metadata": {},
   "outputs": [
    {
     "data": {
      "text/plain": [
       "slow_trough_t_long_square      880.0\n",
       "slow_trough_t_ramp             645.0\n",
       "slow_trough_t_short_square    1034.0\n",
       "slow_trough_v_long_square      880.0\n",
       "slow_trough_v_ramp             645.0\n",
       "slow_trough_v_short_square    1034.0\n",
       "dtype: float64"
      ]
     },
     "execution_count": 4,
     "metadata": {},
     "output_type": "execute_result"
    }
   ],
   "source": [
    "# Handle features missing more that 250 values. \n",
    "\n",
    "missing_data_count = ef_df.isnull().sum(axis=0)\n",
    "# narrow it down to columns missing a more than 250 values. \n",
    "missing_data_count.where(missing_data_count.values > 250)\n",
    "missing_data = (missing_data_count.where(missing_data_count.values > 250)).dropna()\n",
    "missing_data"
   ]
  },
  {
   "cell_type": "code",
   "execution_count": 5,
   "metadata": {},
   "outputs": [],
   "source": [
    "# drop columns missing a more than 250 values.  \n",
    "for i in missing_data.index:\n",
    "    ef_df.drop(columns=i, inplace=True)"
   ]
  },
  {
   "cell_type": "code",
   "execution_count": 6,
   "metadata": {},
   "outputs": [],
   "source": [
    "# for now, drop rows with missing values \n",
    "ef_df = ef_df.dropna()\n",
    "\n",
    "# Treat the column 'dendrite_type' as the predictive objective \n",
    "ef_df['dendrite_type'].unique()\n",
    "\n",
    "# drop the sparsely spiny dendrite type rows. left with 1566 instances of \n",
    "# 'aspiny' and 'spiny'. \n",
    "ef_df = ef_df[ef_df['dendrite_type'] != 'sparsely spiny']\n",
    "\n",
    "# also drop the species and id column \n",
    "ef_df.drop(['species', 'id'], axis=1, inplace=True)"
   ]
  },
  {
   "cell_type": "code",
   "execution_count": 7,
   "metadata": {},
   "outputs": [
    {
     "name": "stdout",
     "output_type": "stream",
     "text": [
      "adaptation\n",
      "avg_isi\n",
      "electrode_0_pa\n",
      "f_i_curve_slope\n",
      "fast_trough_t_long_square\n",
      "fast_trough_t_ramp\n",
      "fast_trough_t_short_square\n",
      "fast_trough_v_long_square\n",
      "fast_trough_v_ramp\n",
      "fast_trough_v_short_square\n",
      "has_burst\n",
      "has_delay\n",
      "has_pause\n",
      "input_resistance_mohm\n",
      "latency\n",
      "peak_t_long_square\n",
      "peak_t_ramp\n",
      "peak_t_short_square\n",
      "peak_v_long_square\n",
      "peak_v_ramp\n",
      "peak_v_short_square\n",
      "rheobase_sweep_id\n",
      "rheobase_sweep_number\n",
      "ri\n",
      "sag\n",
      "seal_gohm\n",
      "specimen_id\n",
      "tau\n",
      "threshold_i_long_square\n",
      "threshold_i_ramp\n",
      "threshold_i_short_square\n",
      "threshold_t_long_square\n",
      "threshold_t_ramp\n",
      "threshold_t_short_square\n",
      "threshold_v_long_square\n",
      "threshold_v_ramp\n",
      "threshold_v_short_square\n",
      "thumbnail_sweep_id\n",
      "trough_t_long_square\n",
      "trough_t_ramp\n",
      "trough_t_short_square\n",
      "trough_v_long_square\n",
      "trough_v_ramp\n",
      "trough_v_short_square\n",
      "upstroke_downstroke_ratio_long_square\n",
      "upstroke_downstroke_ratio_ramp\n",
      "upstroke_downstroke_ratio_short_square\n",
      "vm_for_sag\n",
      "vrest\n",
      "dendrite_type\n"
     ]
    }
   ],
   "source": [
    "# step 5: look at all features available\n",
    "for val in ef_df.columns:\n",
    "    print(val)"
   ]
  },
  {
   "cell_type": "code",
   "execution_count": 8,
   "metadata": {},
   "outputs": [
    {
     "name": "stdout",
     "output_type": "stream",
     "text": [
      "number of features:  50\n"
     ]
    }
   ],
   "source": [
    "print(\"number of features: \", len(ef_df.columns))"
   ]
  },
  {
   "cell_type": "code",
   "execution_count": 9,
   "metadata": {},
   "outputs": [],
   "source": [
    "# these feauture columns will be dropped \n",
    "# explain reasons for dropping all these columns. \n",
    "time_columns = ['fast_trough_t_long_square',\n",
    "                     'fast_trough_t_ramp', \n",
    "                     'fast_trough_t_short_square',\n",
    "                     'peak_t_long_square',\n",
    "                     'peak_t_ramp',\n",
    "                     'peak_t_short_square', \n",
    "                     'threshold_t_long_square',\n",
    "                     'threshold_t_ramp',\n",
    "                     'threshold_t_short_square',\n",
    "                     'trough_t_long_square',\n",
    "                     'trough_t_ramp',\n",
    "                     'trough_t_short_square'\n",
    "               ]\n",
    "\n",
    "i_columns = ['threshold_i_long_square',\n",
    "                   'threshold_i_ramp',\n",
    "                   'threshold_i_short_square'\n",
    "                  ]\n",
    "\n",
    "dependent_col = ['rheobase_sweep_id',\n",
    "                 'rheobase_sweep_number', \n",
    "                 'ri', \n",
    "                 'sag'\n",
    "                ]\n",
    "\n",
    "other = ['seal_gohm',\n",
    "        'specimen_id', \n",
    "        'tau',\n",
    "        'thumbnail_sweep_id', \n",
    "         'has_burst', \n",
    "         'has_delay', \n",
    "         'has_pause'\n",
    "        ]"
   ]
  },
  {
   "cell_type": "code",
   "execution_count": 10,
   "metadata": {},
   "outputs": [],
   "source": [
    "ef_df.drop(time_columns, axis=1, inplace=True)\n",
    "ef_df.drop(i_columns, axis=1, inplace=True)\n",
    "ef_df.drop(dependent_col, axis=1, inplace=True)\n",
    "ef_df.drop(other, axis=1, inplace=True)"
   ]
  },
  {
   "cell_type": "code",
   "execution_count": 11,
   "metadata": {},
   "outputs": [
    {
     "name": "stdout",
     "output_type": "stream",
     "text": [
      "reduced the number of features to:  24\n"
     ]
    }
   ],
   "source": [
    "print(\"reduced the number of features to: \", len(ef_df.columns))"
   ]
  },
  {
   "cell_type": "code",
   "execution_count": 12,
   "metadata": {},
   "outputs": [],
   "source": [
    "# drop remaining columns with missing values \n",
    "# for now, drop rows with missing values \n",
    "ef_df = ef_df.dropna()\n",
    "\n",
    "# Treat the column 'dendrite_type' as the predictive objective \n",
    "ef_df['dendrite_type'].unique()\n",
    "\n",
    "# drop the sparsely spiny dendrite type rows. left with 1566 instances of \n",
    "# 'aspiny' and 'spiny'. \n",
    "ef_df = ef_df[ef_df['dendrite_type'] != 'sparsely spiny']\n"
   ]
  },
  {
   "cell_type": "markdown",
   "metadata": {},
   "source": [
    "### Execute Logistic Regression \n",
    "**Additional Resources:**  \n",
    "* https://towardsdatascience.com/building-a-logistic-regression-in-python-step-by-step-becd4d56c9c8"
   ]
  },
  {
   "cell_type": "code",
   "execution_count": 13,
   "metadata": {},
   "outputs": [],
   "source": [
    "from sklearn.model_selection import train_test_split \n",
    "from sklearn.linear_model import LogisticRegression "
   ]
  },
  {
   "cell_type": "code",
   "execution_count": 14,
   "metadata": {},
   "outputs": [],
   "source": [
    "# prepare to train the model \n",
    "# dendrite type is the predictive objective. \n",
    "y = ef_df['dendrite_type']\n",
    "\n",
    "# make output binary 1 or 0\n",
    "y = y.replace(to_replace='aspiny', value=1)\n",
    "y = y.replace(to_replace='spiny', value=0)\n"
   ]
  },
  {
   "cell_type": "code",
   "execution_count": 15,
   "metadata": {},
   "outputs": [],
   "source": [
    "# All other columns are features. \n",
    "X = ef_df.drop(['dendrite_type'], axis=1)"
   ]
  },
  {
   "cell_type": "code",
   "execution_count": 16,
   "metadata": {},
   "outputs": [],
   "source": [
    "# Split 70% of the data for training and leave out 35% for testing. \n",
    "X_train, X_test, y_train, y_test = train_test_split(X, y, test_size=0.35, random_state=1)"
   ]
  },
  {
   "cell_type": "code",
   "execution_count": 17,
   "metadata": {},
   "outputs": [
    {
     "data": {
      "text/html": [
       "<div>\n",
       "<style scoped>\n",
       "    .dataframe tbody tr th:only-of-type {\n",
       "        vertical-align: middle;\n",
       "    }\n",
       "\n",
       "    .dataframe tbody tr th {\n",
       "        vertical-align: top;\n",
       "    }\n",
       "\n",
       "    .dataframe thead th {\n",
       "        text-align: right;\n",
       "    }\n",
       "</style>\n",
       "<table border=\"1\" class=\"dataframe\">\n",
       "  <thead>\n",
       "    <tr style=\"text-align: right;\">\n",
       "      <th></th>\n",
       "      <th>adaptation</th>\n",
       "      <th>avg_isi</th>\n",
       "      <th>electrode_0_pa</th>\n",
       "      <th>f_i_curve_slope</th>\n",
       "      <th>fast_trough_v_long_square</th>\n",
       "      <th>fast_trough_v_ramp</th>\n",
       "      <th>fast_trough_v_short_square</th>\n",
       "      <th>input_resistance_mohm</th>\n",
       "      <th>latency</th>\n",
       "      <th>peak_v_long_square</th>\n",
       "      <th>...</th>\n",
       "      <th>threshold_v_ramp</th>\n",
       "      <th>threshold_v_short_square</th>\n",
       "      <th>trough_v_long_square</th>\n",
       "      <th>trough_v_ramp</th>\n",
       "      <th>trough_v_short_square</th>\n",
       "      <th>upstroke_downstroke_ratio_long_square</th>\n",
       "      <th>upstroke_downstroke_ratio_ramp</th>\n",
       "      <th>upstroke_downstroke_ratio_short_square</th>\n",
       "      <th>vm_for_sag</th>\n",
       "      <th>vrest</th>\n",
       "    </tr>\n",
       "  </thead>\n",
       "  <tbody>\n",
       "    <tr>\n",
       "      <th>1003</th>\n",
       "      <td>-0.167204</td>\n",
       "      <td>27.930000</td>\n",
       "      <td>-8.295000</td>\n",
       "      <td>0.026455</td>\n",
       "      <td>-49.250004</td>\n",
       "      <td>-46.953129</td>\n",
       "      <td>-52.135418</td>\n",
       "      <td>329.266016</td>\n",
       "      <td>0.00716</td>\n",
       "      <td>23.656250</td>\n",
       "      <td>...</td>\n",
       "      <td>-33.453125</td>\n",
       "      <td>-47.171878</td>\n",
       "      <td>-49.281250</td>\n",
       "      <td>-47.062500</td>\n",
       "      <td>-67.192712</td>\n",
       "      <td>2.386304</td>\n",
       "      <td>2.010862</td>\n",
       "      <td>2.437702</td>\n",
       "      <td>-88.5000</td>\n",
       "      <td>-66.499924</td>\n",
       "    </tr>\n",
       "    <tr>\n",
       "      <th>1603</th>\n",
       "      <td>-0.000117</td>\n",
       "      <td>8.813571</td>\n",
       "      <td>32.837497</td>\n",
       "      <td>0.830572</td>\n",
       "      <td>-51.937500</td>\n",
       "      <td>-38.083335</td>\n",
       "      <td>-62.039066</td>\n",
       "      <td>125.003360</td>\n",
       "      <td>0.00680</td>\n",
       "      <td>8.343751</td>\n",
       "      <td>...</td>\n",
       "      <td>-37.895833</td>\n",
       "      <td>-41.265626</td>\n",
       "      <td>-52.031254</td>\n",
       "      <td>-39.031251</td>\n",
       "      <td>-68.218754</td>\n",
       "      <td>1.514162</td>\n",
       "      <td>0.897531</td>\n",
       "      <td>1.466728</td>\n",
       "      <td>-78.9375</td>\n",
       "      <td>-68.040489</td>\n",
       "    </tr>\n",
       "    <tr>\n",
       "      <th>850</th>\n",
       "      <td>0.212369</td>\n",
       "      <td>175.191667</td>\n",
       "      <td>6.298125</td>\n",
       "      <td>0.100646</td>\n",
       "      <td>-45.062500</td>\n",
       "      <td>-43.427086</td>\n",
       "      <td>-49.085938</td>\n",
       "      <td>180.134800</td>\n",
       "      <td>0.10397</td>\n",
       "      <td>33.593750</td>\n",
       "      <td>...</td>\n",
       "      <td>-32.010417</td>\n",
       "      <td>-44.289066</td>\n",
       "      <td>-55.343750</td>\n",
       "      <td>-51.916669</td>\n",
       "      <td>-78.875004</td>\n",
       "      <td>4.114901</td>\n",
       "      <td>4.223369</td>\n",
       "      <td>4.085132</td>\n",
       "      <td>-96.6875</td>\n",
       "      <td>-78.200935</td>\n",
       "    </tr>\n",
       "    <tr>\n",
       "      <th>643</th>\n",
       "      <td>-0.040397</td>\n",
       "      <td>64.635000</td>\n",
       "      <td>-18.855001</td>\n",
       "      <td>0.191292</td>\n",
       "      <td>-51.531250</td>\n",
       "      <td>-53.781254</td>\n",
       "      <td>-56.307294</td>\n",
       "      <td>240.611856</td>\n",
       "      <td>0.17940</td>\n",
       "      <td>32.375000</td>\n",
       "      <td>...</td>\n",
       "      <td>-33.791669</td>\n",
       "      <td>-39.432294</td>\n",
       "      <td>-54.250000</td>\n",
       "      <td>-56.687504</td>\n",
       "      <td>-69.161458</td>\n",
       "      <td>2.988172</td>\n",
       "      <td>3.009406</td>\n",
       "      <td>2.670075</td>\n",
       "      <td>-86.1250</td>\n",
       "      <td>-68.664314</td>\n",
       "    </tr>\n",
       "    <tr>\n",
       "      <th>618</th>\n",
       "      <td>0.005990</td>\n",
       "      <td>44.866667</td>\n",
       "      <td>1.822500</td>\n",
       "      <td>0.243522</td>\n",
       "      <td>-47.375000</td>\n",
       "      <td>-50.000002</td>\n",
       "      <td>-50.206252</td>\n",
       "      <td>212.602240</td>\n",
       "      <td>0.01541</td>\n",
       "      <td>20.625000</td>\n",
       "      <td>...</td>\n",
       "      <td>-36.281250</td>\n",
       "      <td>-40.906253</td>\n",
       "      <td>-55.000004</td>\n",
       "      <td>-57.375002</td>\n",
       "      <td>-62.931253</td>\n",
       "      <td>2.410187</td>\n",
       "      <td>3.000151</td>\n",
       "      <td>2.625949</td>\n",
       "      <td>-79.7500</td>\n",
       "      <td>-62.139729</td>\n",
       "    </tr>\n",
       "  </tbody>\n",
       "</table>\n",
       "<p>5 rows × 23 columns</p>\n",
       "</div>"
      ],
      "text/plain": [
       "      adaptation     avg_isi  electrode_0_pa  f_i_curve_slope  \\\n",
       "1003   -0.167204   27.930000       -8.295000         0.026455   \n",
       "1603   -0.000117    8.813571       32.837497         0.830572   \n",
       "850     0.212369  175.191667        6.298125         0.100646   \n",
       "643    -0.040397   64.635000      -18.855001         0.191292   \n",
       "618     0.005990   44.866667        1.822500         0.243522   \n",
       "\n",
       "      fast_trough_v_long_square  fast_trough_v_ramp  \\\n",
       "1003                 -49.250004          -46.953129   \n",
       "1603                 -51.937500          -38.083335   \n",
       "850                  -45.062500          -43.427086   \n",
       "643                  -51.531250          -53.781254   \n",
       "618                  -47.375000          -50.000002   \n",
       "\n",
       "      fast_trough_v_short_square  input_resistance_mohm  latency  \\\n",
       "1003                  -52.135418             329.266016  0.00716   \n",
       "1603                  -62.039066             125.003360  0.00680   \n",
       "850                   -49.085938             180.134800  0.10397   \n",
       "643                   -56.307294             240.611856  0.17940   \n",
       "618                   -50.206252             212.602240  0.01541   \n",
       "\n",
       "      peak_v_long_square    ...      threshold_v_ramp  \\\n",
       "1003           23.656250    ...            -33.453125   \n",
       "1603            8.343751    ...            -37.895833   \n",
       "850            33.593750    ...            -32.010417   \n",
       "643            32.375000    ...            -33.791669   \n",
       "618            20.625000    ...            -36.281250   \n",
       "\n",
       "      threshold_v_short_square  trough_v_long_square  trough_v_ramp  \\\n",
       "1003                -47.171878            -49.281250     -47.062500   \n",
       "1603                -41.265626            -52.031254     -39.031251   \n",
       "850                 -44.289066            -55.343750     -51.916669   \n",
       "643                 -39.432294            -54.250000     -56.687504   \n",
       "618                 -40.906253            -55.000004     -57.375002   \n",
       "\n",
       "      trough_v_short_square  upstroke_downstroke_ratio_long_square  \\\n",
       "1003             -67.192712                               2.386304   \n",
       "1603             -68.218754                               1.514162   \n",
       "850              -78.875004                               4.114901   \n",
       "643              -69.161458                               2.988172   \n",
       "618              -62.931253                               2.410187   \n",
       "\n",
       "      upstroke_downstroke_ratio_ramp  upstroke_downstroke_ratio_short_square  \\\n",
       "1003                        2.010862                                2.437702   \n",
       "1603                        0.897531                                1.466728   \n",
       "850                         4.223369                                4.085132   \n",
       "643                         3.009406                                2.670075   \n",
       "618                         3.000151                                2.625949   \n",
       "\n",
       "      vm_for_sag      vrest  \n",
       "1003    -88.5000 -66.499924  \n",
       "1603    -78.9375 -68.040489  \n",
       "850     -96.6875 -78.200935  \n",
       "643     -86.1250 -68.664314  \n",
       "618     -79.7500 -62.139729  \n",
       "\n",
       "[5 rows x 23 columns]"
      ]
     },
     "execution_count": 17,
     "metadata": {},
     "output_type": "execute_result"
    }
   ],
   "source": [
    "# take a look at the training data\n",
    "X_train.head()"
   ]
  },
  {
   "cell_type": "code",
   "execution_count": 18,
   "metadata": {},
   "outputs": [
    {
     "name": "stderr",
     "output_type": "stream",
     "text": [
      "C:\\ProgramData\\Anaconda3\\lib\\site-packages\\sklearn\\linear_model\\logistic.py:432: FutureWarning: Default solver will be changed to 'lbfgs' in 0.22. Specify a solver to silence this warning.\n",
      "  FutureWarning)\n"
     ]
    }
   ],
   "source": [
    "logistic_reg = LogisticRegression()\n",
    "logistic_reg.fit(X_train, y_train)\n",
    "\n",
    "# dendrite prediction \n",
    "y_pred = logistic_reg.predict(X_test)"
   ]
  },
  {
   "cell_type": "code",
   "execution_count": 19,
   "metadata": {},
   "outputs": [
    {
     "name": "stdout",
     "output_type": "stream",
     "text": [
      "Logistic regression classifier accuracy: 0.971\n"
     ]
    }
   ],
   "source": [
    "print('Logistic regression classifier accuracy: {:.3f}'.format(logistic_reg.score(X_test, y_test)))"
   ]
  },
  {
   "cell_type": "code",
   "execution_count": 20,
   "metadata": {},
   "outputs": [],
   "source": [
    "# Evaluate using confusion matrix \n",
    "from sklearn.metrics import confusion_matrix \n",
    "from mlxtend.plotting import plot_confusion_matrix"
   ]
  },
  {
   "cell_type": "code",
   "execution_count": 21,
   "metadata": {
    "scrolled": true
   },
   "outputs": [
    {
     "data": {
      "image/png": "[encoded data removed]",
      "text/plain": [
       "<Figure size 432x288 with 2 Axes>"
      ]
     },
     "metadata": {
      "needs_background": "light"
     },
     "output_type": "display_data"
    }
   ],
   "source": [
    "conf_matrix = confusion_matrix(y_test, y_pred)\n",
    "fig, ax = plot_confusion_matrix(conf_matrix, \n",
    "                               show_absolute=True, \n",
    "                               show_normed=True, \n",
    "                               colorbar=True)\n",
    "plt.show()\n"
   ]
  },
  {
   "cell_type": "code",
   "execution_count": 22,
   "metadata": {},
   "outputs": [],
   "source": [
    "# Evaluate using f1 score, precision, recall, and support \n",
    "from sklearn.metrics import f1_score"
   ]
  },
  {
   "cell_type": "code",
   "execution_count": 23,
   "metadata": {},
   "outputs": [
    {
     "data": {
      "text/plain": [
       "0.9705882352941176"
      ]
     },
     "execution_count": 23,
     "metadata": {},
     "output_type": "execute_result"
    }
   ],
   "source": [
    "F1_score = f1_score(y_test, y_pred)\n",
    "F1_score"
   ]
  },
  {
   "cell_type": "code",
   "execution_count": 24,
   "metadata": {},
   "outputs": [
    {
     "name": "stdout",
     "output_type": "stream",
     "text": [
      "              precision    recall  f1-score   support\n",
      "\n",
      "           0       0.98      0.96      0.97       279\n",
      "           1       0.96      0.98      0.97       270\n",
      "\n",
      "    accuracy                           0.97       549\n",
      "   macro avg       0.97      0.97      0.97       549\n",
      "weighted avg       0.97      0.97      0.97       549\n",
      "\n"
     ]
    }
   ],
   "source": [
    "from sklearn.metrics import classification_report\n",
    "print(classification_report(y_test, y_pred))"
   ]
  },
  {
   "cell_type": "code",
   "execution_count": 25,
   "metadata": {},
   "outputs": [],
   "source": [
    "# Evaluate using roc curve\n",
    "from sklearn.metrics import roc_curve\n",
    "from sklearn.metrics import roc_auc_score"
   ]
  },
  {
   "cell_type": "code",
   "execution_count": 26,
   "metadata": {},
   "outputs": [
    {
     "data": {
      "image/png": "[encoded data removed]",
      "text/plain": [
       "<Figure size 432x288 with 1 Axes>"
      ]
     },
     "metadata": {
      "needs_background": "light"
     },
     "output_type": "display_data"
    }
   ],
   "source": [
    "logistic_regr_roc_auc = roc_auc_score(y_test, logistic_reg.predict(X_test))\n",
    "false_pos_rate,  true_pos_rate, thresholds = roc_curve(y_test, \n",
    "                                                      logistic_reg.predict_proba(X_test)[:,1])\n",
    "plt.figure()\n",
    "plt.plot(false_pos_rate,\n",
    "        true_pos_rate, \n",
    "        label='Logistic Regression (area = %0.3f)' % logistic_regr_roc_auc)\n",
    "plt.plot([0, 1], [0, 1], 'r--')\n",
    "\n",
    "plt.title('ROC Curve')\n",
    "plt.xlabel('False Positive Rate')\n",
    "plt.ylabel('True Positive Rate') \n",
    "plt.legend(loc='lower right')\n",
    "plt.grid()\n",
    "plt.xlim([0.0, 1.0])\n",
    "plt.ylim([0.0, 1.1])\n",
    "plt.show()\n"
   ]
  },
  {
   "cell_type": "markdown",
   "metadata": {},
   "source": [
    "### Using PCA  \n",
    "\n",
    "because my feature set was still very large, I took a small digression and tried using principle component analysis; however, this was largely out of curiousity.\n",
    "\n",
    "**Resource for PCA:** \n",
    "* https://github.com/TannerGilbert/Tutorials/blob/master/Scikit-Learn-Tutorial/8.%20Dimensionality%20Reduction.ipynb"
   ]
  },
  {
   "cell_type": "markdown",
   "metadata": {},
   "source": [
    "Feature Extraction, with principle component analysis:  \n",
    "\n",
    "1. Normalize data (0 mean and standard deviation 1) \n",
    "2. calculate covariance matrix. \n",
    "3. compute eigen vectors and eigen values \n",
    "4. sort eigen values and their respective eigen vectors \n",
    "5. choose new dimensionality ( find the first k eigen vectors) \n",
    "6. transform original data. "
   ]
  },
  {
   "cell_type": "code",
   "execution_count": 27,
   "metadata": {},
   "outputs": [],
   "source": [
    "# made a copy of the ef_df df\n",
    "pca_ef_df = ef_df.copy()"
   ]
  },
  {
   "cell_type": "code",
   "execution_count": 28,
   "metadata": {},
   "outputs": [],
   "source": [
    "# split the data \n",
    "X = np.array(pca_ef_df.drop(['dendrite_type'], axis=1))\n",
    "y = np.array(pca_ef_df['dendrite_type'])"
   ]
  },
  {
   "cell_type": "code",
   "execution_count": 29,
   "metadata": {},
   "outputs": [],
   "source": [
    "from sklearn.decomposition import PCA\n",
    "\n",
    "# used PCS on the feature set, reducing it down to two dimensions.\n",
    "pca = PCA(n_components=2)\n",
    "X_reduced = pca.fit(X).transform(X) # or just pca.fit_transform(X)\n",
    "X_reduced = pd.DataFrame(data=X_reduced, columns=['x', 'y'])"
   ]
  },
  {
   "cell_type": "code",
   "execution_count": 30,
   "metadata": {},
   "outputs": [
    {
     "data": {
      "text/html": [
       "<div>\n",
       "<style scoped>\n",
       "    .dataframe tbody tr th:only-of-type {\n",
       "        vertical-align: middle;\n",
       "    }\n",
       "\n",
       "    .dataframe tbody tr th {\n",
       "        vertical-align: top;\n",
       "    }\n",
       "\n",
       "    .dataframe thead th {\n",
       "        text-align: right;\n",
       "    }\n",
       "</style>\n",
       "<table border=\"1\" class=\"dataframe\">\n",
       "  <thead>\n",
       "    <tr style=\"text-align: right;\">\n",
       "      <th></th>\n",
       "      <th>x</th>\n",
       "      <th>y</th>\n",
       "    </tr>\n",
       "  </thead>\n",
       "  <tbody>\n",
       "    <tr>\n",
       "      <th>0</th>\n",
       "      <td>11.996711</td>\n",
       "      <td>-32.434017</td>\n",
       "    </tr>\n",
       "    <tr>\n",
       "      <th>1</th>\n",
       "      <td>-69.336541</td>\n",
       "      <td>36.664405</td>\n",
       "    </tr>\n",
       "    <tr>\n",
       "      <th>2</th>\n",
       "      <td>-43.972799</td>\n",
       "      <td>-3.089148</td>\n",
       "    </tr>\n",
       "    <tr>\n",
       "      <th>3</th>\n",
       "      <td>-18.782764</td>\n",
       "      <td>-49.694570</td>\n",
       "    </tr>\n",
       "    <tr>\n",
       "      <th>4</th>\n",
       "      <td>-8.416392</td>\n",
       "      <td>-13.816566</td>\n",
       "    </tr>\n",
       "  </tbody>\n",
       "</table>\n",
       "</div>"
      ],
      "text/plain": [
       "           x          y\n",
       "0  11.996711 -32.434017\n",
       "1 -69.336541  36.664405\n",
       "2 -43.972799  -3.089148\n",
       "3 -18.782764 -49.694570\n",
       "4  -8.416392 -13.816566"
      ]
     },
     "execution_count": 30,
     "metadata": {},
     "output_type": "execute_result"
    }
   ],
   "source": [
    "X_reduced.head()"
   ]
  },
  {
   "cell_type": "code",
   "execution_count": 31,
   "metadata": {},
   "outputs": [
    {
     "data": {
      "image/png": "[encoded data removed]",
      "text/plain": [
       "<Figure size 432x288 with 1 Axes>"
      ]
     },
     "metadata": {
      "needs_background": "light"
     },
     "output_type": "display_data"
    }
   ],
   "source": [
    "%matplotlib inline\n",
    "import matplotlib.pyplot as plt\n",
    "import seaborn as sns\n",
    "\n",
    "sns.scatterplot(x='x', y='y', hue=y ,data=X_reduced);"
   ]
  },
  {
   "cell_type": "markdown",
   "metadata": {},
   "source": [
    "### Classification using Random Forest Classifier: \n",
    "\n",
    "An important note here is that, compared to the results in my paper, somehting changed in my model that I can't quite pinpoint. It occurs after I reduce the number of features from 23 down to 4 with this model. Originally the model performed well, however, now the prediction perfomance has dropped consistently down towards 92%. Also, my original joblib file is only uses 3 features. The feature importance jumps between 3 and 4 features with an importance score above 0.08. "
   ]
  },
  {
   "cell_type": "markdown",
   "metadata": {},
   "source": [
    "https://www.datacamp.com/community/tutorials/random-forests-classifier-python"
   ]
  },
  {
   "cell_type": "code",
   "execution_count": 58,
   "metadata": {},
   "outputs": [],
   "source": [
    "X = ef_df.drop(['dendrite_type'], axis=1)\n",
    "y = ef_df['dendrite_type']"
   ]
  },
  {
   "cell_type": "code",
   "execution_count": 59,
   "metadata": {},
   "outputs": [],
   "source": [
    "# prepare to train the model \n",
    "\n",
    "# make output binary 1 or 0\n",
    "y = y.replace(to_replace='aspiny', value=1)\n",
    "y = y.replace(to_replace='spiny', value=0)"
   ]
  },
  {
   "cell_type": "code",
   "execution_count": 60,
   "metadata": {},
   "outputs": [],
   "source": [
    "X_train, X_test, y_train, y_test = train_test_split(X, y, test_size=0.35, random_state=1)"
   ]
  },
  {
   "cell_type": "code",
   "execution_count": 61,
   "metadata": {},
   "outputs": [],
   "source": [
    "from sklearn.ensemble import RandomForestClassifier"
   ]
  },
  {
   "cell_type": "code",
   "execution_count": 62,
   "metadata": {},
   "outputs": [],
   "source": [
    "# create a guassian classifier \n",
    "g_clf = RandomForestClassifier(n_estimators=100)\n",
    "\n",
    "# Train the model using the training sets \n",
    "g_clf.fit(X_train, y_train)\n",
    "\n",
    "y_pred = g_clf.predict(X_test)"
   ]
  },
  {
   "cell_type": "code",
   "execution_count": 63,
   "metadata": {},
   "outputs": [
    {
     "name": "stdout",
     "output_type": "stream",
     "text": [
      "Accuracy: 0.9562841530054644\n"
     ]
    }
   ],
   "source": [
    "from sklearn import metrics\n",
    "# Model Accuracy, how often is the classifier correct?\n",
    "print(\"Accuracy:\",metrics.accuracy_score(y_test, y_pred))"
   ]
  },
  {
   "cell_type": "markdown",
   "metadata": {},
   "source": [
    "## Finding key features using feature importance scores in random forest "
   ]
  },
  {
   "cell_type": "code",
   "execution_count": 64,
   "metadata": {},
   "outputs": [
    {
     "data": {
      "text/plain": [
       "upstroke_downstroke_ratio_short_square    0.145320\n",
       "peak_v_ramp                               0.099599\n",
       "latency                                   0.095290\n",
       "f_i_curve_slope                           0.080384\n",
       "avg_isi                                   0.067488\n",
       "adaptation                                0.065650\n",
       "upstroke_downstroke_ratio_long_square     0.060722\n",
       "fast_trough_v_short_square                0.054758\n",
       "peak_v_long_square                        0.050916\n",
       "fast_trough_v_long_square                 0.048515\n",
       "fast_trough_v_ramp                        0.032797\n",
       "peak_v_short_square                       0.031001\n",
       "upstroke_downstroke_ratio_ramp            0.029911\n",
       "input_resistance_mohm                     0.028102\n",
       "trough_v_ramp                             0.022121\n",
       "threshold_v_short_square                  0.019072\n",
       "trough_v_long_square                      0.012699\n",
       "vrest                                     0.011477\n",
       "threshold_v_long_square                   0.011368\n",
       "trough_v_short_square                     0.010370\n",
       "threshold_v_ramp                          0.008551\n",
       "vm_for_sag                                0.007854\n",
       "electrode_0_pa                            0.006036\n",
       "dtype: float64"
      ]
     },
     "execution_count": 64,
     "metadata": {},
     "output_type": "execute_result"
    }
   ],
   "source": [
    "feature_imp = pd.Series(g_clf.feature_importances_,index=X.columns).sort_values(ascending=False)\n",
    "feature_imp"
   ]
  },
  {
   "cell_type": "code",
   "execution_count": 65,
   "metadata": {},
   "outputs": [
    {
     "data": {
      "image/png": "[encoded data removed]",
      "text/plain": [
       "<Figure size 432x288 with 1 Axes>"
      ]
     },
     "metadata": {
      "needs_background": "light"
     },
     "output_type": "display_data"
    }
   ],
   "source": [
    "%matplotlib inline \n",
    "\n",
    "# creating a bar plot\n",
    "sns.barplot(x=feature_imp, y = feature_imp.index)\n",
    "\n",
    "#labels\n",
    "plt.title(\"Feature importance\")\n",
    "plt.xlabel(\"Score\")\n",
    "plt.ylabel(\"Features\")\n",
    "plt.show();"
   ]
  },
  {
   "cell_type": "code",
   "execution_count": 66,
   "metadata": {},
   "outputs": [
    {
     "data": {
      "text/plain": [
       "Index(['upstroke_downstroke_ratio_short_square', 'peak_v_ramp', 'latency',\n",
       "       'f_i_curve_slope'],\n",
       "      dtype='object')"
      ]
     },
     "execution_count": 66,
     "metadata": {},
     "output_type": "execute_result"
    }
   ],
   "source": [
    "# take feature with a score above 0.08 \n",
    "selected_features = feature_imp.where(feature_imp.values > 0.08)\n",
    "selected_features = selected_features.dropna().index\n",
    "selected_features"
   ]
  },
  {
   "cell_type": "code",
   "execution_count": 67,
   "metadata": {},
   "outputs": [],
   "source": [
    "X = ef_df[selected_features]\n",
    "y = ef_df['dendrite_type'] "
   ]
  },
  {
   "cell_type": "code",
   "execution_count": 68,
   "metadata": {},
   "outputs": [],
   "source": [
    "# make output binary 1 or 0\n",
    "y = y.replace(to_replace='aspiny', value=1)\n",
    "y = y.replace(to_replace='spiny', value=0)"
   ]
  },
  {
   "cell_type": "code",
   "execution_count": 69,
   "metadata": {},
   "outputs": [],
   "source": [
    "# split the dataset\n",
    "X_train, X_test, y_train, y_test = train_test_split(X, y, test_size=0.35, random_state=1)\n",
    "\n",
    "# create a guassian classifier \n",
    "g_clf = RandomForestClassifier(n_estimators=100)\n",
    "\n",
    "# Train the model \n",
    "g_clf.fit(X_train, y_train)\n",
    "\n",
    "y_pred = g_clf.predict(X_test)"
   ]
  },
  {
   "cell_type": "code",
   "execution_count": 70,
   "metadata": {},
   "outputs": [
    {
     "name": "stdout",
     "output_type": "stream",
     "text": [
      "Accuracy: 0.93\n"
     ]
    }
   ],
   "source": [
    "print(\"Accuracy:\",round(metrics.accuracy_score(y_test, y_pred), 2))"
   ]
  },
  {
   "cell_type": "code",
   "execution_count": 71,
   "metadata": {},
   "outputs": [
    {
     "data": {
      "image/png": "[encoded data removed]",
      "text/plain": [
       "<Figure size 432x288 with 2 Axes>"
      ]
     },
     "metadata": {
      "needs_background": "light"
     },
     "output_type": "display_data"
    }
   ],
   "source": [
    "conf_matrix = confusion_matrix(y_test, y_pred)\n",
    "fig, ax = plot_confusion_matrix(conf_matrix, \n",
    "                               show_absolute=True, \n",
    "                               show_normed=True, \n",
    "                               colorbar=True)\n",
    "plt.show()"
   ]
  },
  {
   "cell_type": "code",
   "execution_count": 72,
   "metadata": {},
   "outputs": [
    {
     "name": "stdout",
     "output_type": "stream",
     "text": [
      "              precision    recall  f1-score   support\n",
      "\n",
      "           0       0.93      0.92      0.93       279\n",
      "           1       0.92      0.93      0.92       270\n",
      "\n",
      "    accuracy                           0.93       549\n",
      "   macro avg       0.93      0.93      0.93       549\n",
      "weighted avg       0.93      0.93      0.93       549\n",
      "\n"
     ]
    }
   ],
   "source": [
    "from sklearn.metrics import classification_report\n",
    "print(classification_report(y_test, y_pred))"
   ]
  },
  {
   "cell_type": "code",
   "execution_count": 73,
   "metadata": {},
   "outputs": [
    {
     "data": {
      "image/png": "[encoded data removed]",
      "text/plain": [
       "<Figure size 432x288 with 1 Axes>"
      ]
     },
     "metadata": {
      "needs_background": "light"
     },
     "output_type": "display_data"
    }
   ],
   "source": [
    "g_clf_roc_auc = roc_auc_score(y_test, g_clf.predict(X_test))\n",
    "false_pos_rate,  true_pos_rate, thresholds = roc_curve(y_test, \n",
    "                                                      g_clf.predict_proba(X_test)[:,1])\n",
    "plt.figure()\n",
    "plt.plot(false_pos_rate,\n",
    "        true_pos_rate, \n",
    "        label='Random Forest (area = %0.3f)' % g_clf_roc_auc)\n",
    "plt.plot([0, 1], [0, 1], 'r--')\n",
    "\n",
    "plt.title('ROC Curve')\n",
    "plt.xlabel('False Positive Rate')\n",
    "plt.ylabel('True Positive Rate') \n",
    "plt.legend(loc='lower right')\n",
    "plt.grid()\n",
    "plt.xlim([0.0, 1.0])\n",
    "plt.ylim([0.0, 1.1])\n",
    "plt.show()"
   ]
  },
  {
   "cell_type": "markdown",
   "metadata": {},
   "source": [
    "### Decision Tree Classifier  \n",
    "\n",
    "I did not use the smaller feature set for training the decision tree. Rather, I used the postproccessing dataset containing 23 features. "
   ]
  },
  {
   "cell_type": "code",
   "execution_count": 74,
   "metadata": {},
   "outputs": [],
   "source": [
    "from sklearn.tree import DecisionTreeClassifier "
   ]
  },
  {
   "cell_type": "code",
   "execution_count": 75,
   "metadata": {},
   "outputs": [],
   "source": [
    "X = ef_df.drop(['dendrite_type'], axis=1) \n",
    "y = ef_df['dendrite_type']\n",
    "\n",
    "# make output binary 1 or 0\n",
    "y = y.replace(to_replace='aspiny', value=1)\n",
    "y = y.replace(to_replace='spiny', value=0)\n",
    "\n",
    "# Split dataset into training set and test set\n",
    "X_train, X_test, y_train, y_test = train_test_split(X, y, test_size=0.35, random_state=1) "
   ]
  },
  {
   "cell_type": "code",
   "execution_count": 76,
   "metadata": {},
   "outputs": [],
   "source": [
    "decision_tree_clf = DecisionTreeClassifier()\n",
    "\n",
    "# Train model: \n",
    "decision_tree_clf.fit(X_train, y_train)\n",
    "\n",
    "# Prediction: \n",
    "y_pred = decision_tree_clf.predict(X_test)"
   ]
  },
  {
   "cell_type": "code",
   "execution_count": 77,
   "metadata": {},
   "outputs": [
    {
     "name": "stdout",
     "output_type": "stream",
     "text": [
      "Accuracy: 0.912568306010929\n"
     ]
    }
   ],
   "source": [
    "# Model Accuracy, how often is the classifier correct?\n",
    "print(\"Accuracy:\",metrics.accuracy_score(y_test, y_pred))"
   ]
  },
  {
   "cell_type": "code",
   "execution_count": 78,
   "metadata": {
    "scrolled": true
   },
   "outputs": [
    {
     "data": {
      "image/png": "[encoded data removed]",
      "text/plain": [
       "<Figure size 432x288 with 2 Axes>"
      ]
     },
     "metadata": {
      "needs_background": "light"
     },
     "output_type": "display_data"
    }
   ],
   "source": [
    "conf_matrix = confusion_matrix(y_test, y_pred)\n",
    "fig, ax = plot_confusion_matrix(conf_matrix, \n",
    "                               show_absolute=True, \n",
    "                               show_normed=True, \n",
    "                               colorbar=True)\n",
    "plt.show()\n"
   ]
  },
  {
   "cell_type": "code",
   "execution_count": 79,
   "metadata": {},
   "outputs": [
    {
     "name": "stdout",
     "output_type": "stream",
     "text": [
      "              precision    recall  f1-score   support\n",
      "\n",
      "           0       0.94      0.89      0.91       279\n",
      "           1       0.89      0.94      0.91       270\n",
      "\n",
      "    accuracy                           0.91       549\n",
      "   macro avg       0.91      0.91      0.91       549\n",
      "weighted avg       0.91      0.91      0.91       549\n",
      "\n"
     ]
    }
   ],
   "source": [
    "from sklearn.metrics import classification_report\n",
    "print(classification_report(y_test, y_pred))"
   ]
  },
  {
   "cell_type": "code",
   "execution_count": 80,
   "metadata": {},
   "outputs": [
    {
     "data": {
      "image/png": "[encoded data removed]",
      "text/plain": [
       "<Figure size 432x288 with 1 Axes>"
      ]
     },
     "metadata": {
      "needs_background": "light"
     },
     "output_type": "display_data"
    }
   ],
   "source": [
    "decision_tree_clf_roc_auc = roc_auc_score(y_test, decision_tree_clf.predict(X_test))\n",
    "false_pos_rate,  true_pos_rate, thresholds = roc_curve(y_test, \n",
    "                                                      decision_tree_clf.predict_proba(X_test)[:,1])\n",
    "plt.figure()\n",
    "plt.plot(false_pos_rate,\n",
    "        true_pos_rate, \n",
    "        label='Decision Tree (area = %0.3f)' % decision_tree_clf_roc_auc)\n",
    "plt.plot([0, 1], [0, 1], 'r--')\n",
    "\n",
    "plt.title('ROC Curve')\n",
    "plt.xlabel('False Positive Rate')\n",
    "plt.ylabel('True Positive Rate') \n",
    "plt.legend(loc='lower right')\n",
    "plt.grid()\n",
    "plt.xlim([0.0, 1.0])\n",
    "plt.ylim([0.0, 1.1])\n",
    "plt.show()"
   ]
  },
  {
   "cell_type": "markdown",
   "metadata": {},
   "source": [
    "### Exporting the Random Forest classifier"
   ]
  },
  {
   "cell_type": "code",
   "execution_count": 81,
   "metadata": {},
   "outputs": [],
   "source": [
    "from joblib import dump"
   ]
  },
  {
   "cell_type": "code",
   "execution_count": 82,
   "metadata": {},
   "outputs": [
    {
     "data": {
      "text/plain": [
       "['Rand_Forest_model.joblib']"
      ]
     },
     "execution_count": 82,
     "metadata": {},
     "output_type": "execute_result"
    }
   ],
   "source": [
    "dump(g_clf, 'Rand_Forest_model.joblib')"
   ]
  }
 ],
 "metadata": {
  "kernelspec": {
   "display_name": "Python 3",
   "language": "python",
   "name": "python3"
  },
  "language_info": {
   "codemirror_mode": {
    "name": "ipython",
    "version": 3
   },
   "file_extension": ".py",
   "mimetype": "text/x-python",
   "name": "python",
   "nbconvert_exporter": "python",
   "pygments_lexer": "ipython3",
   "version": "3.7.0"
  }
 },
 "nbformat": 4,
 "nbformat_minor": 2
}
